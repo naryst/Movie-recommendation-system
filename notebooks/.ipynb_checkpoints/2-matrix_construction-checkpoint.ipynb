{
 "cells": [
  {
   "cell_type": "code",
   "execution_count": 29,
   "id": "de221019-3fa6-4a2f-a141-467ce9ad7893",
   "metadata": {},
   "outputs": [],
   "source": [
    "import pandas as pd\n",
    "import numpy as np\n",
    "from tqdm.notebook import tqdm\n",
    "from scipy.linalg import sqrtm\n",
    "from sklearn.metrics import mean_squared_error as mse"
   ]
  },
  {
   "cell_type": "code",
   "execution_count": 2,
   "id": "b24e5490-b395-4055-887c-260327f7e616",
   "metadata": {},
   "outputs": [],
   "source": [
    "users = pd.read_csv(\"../data/interim/users.csv\", index_col=0)\n",
    "movies = pd.read_csv(\"../data/interim/items.csv\", index_col=0)\n",
    "ratings = pd.read_csv(\"../data/interim/ratings.csv\", index_col=0)"
   ]
  },
  {
   "cell_type": "code",
   "execution_count": 3,
   "id": "8b23ba6d-865f-410f-98d7-296b15c95072",
   "metadata": {},
   "outputs": [
    {
     "data": {
      "text/plain": [
       "((943, 5), (1682, 22))"
      ]
     },
     "execution_count": 3,
     "metadata": {},
     "output_type": "execute_result"
    }
   ],
   "source": [
    "users.shape, movies.shape"
   ]
  },
  {
   "cell_type": "code",
   "execution_count": 4,
   "id": "c67c733f-7595-4210-87be-1614ae3d29ca",
   "metadata": {},
   "outputs": [],
   "source": [
    "user2item = np.zeros((users.shape[0], movies.shape[0]))"
   ]
  },
  {
   "cell_type": "code",
   "execution_count": 5,
   "id": "046f8095-96b0-484c-8d14-ce9f342ac7ae",
   "metadata": {},
   "outputs": [
    {
     "data": {
      "text/plain": [
       "((0, 1), (100000, 1))"
      ]
     },
     "execution_count": 5,
     "metadata": {},
     "output_type": "execute_result"
    }
   ],
   "source": [
    "check = ratings.groupby([\"user_id\", \"item_id\"]).count()\n",
    "check[check[\"rating\"] != 1].shape, check.shape"
   ]
  },
  {
   "cell_type": "code",
   "execution_count": 6,
   "id": "cd2d716d-5ece-42b7-9e71-94455289d72f",
   "metadata": {},
   "outputs": [],
   "source": [
    "def construct_matrix(ratings, user2item):\n",
    "    for rating in ratings.iterrows():\n",
    "        user_id = rating[1][\"user_id\"]\n",
    "        item_id = rating[1][\"item_id\"]\n",
    "        r = rating[1][\"rating\"]\n",
    "        user2item[user_id - 1][item_id - 1] = r\n",
    "    return user2item"
   ]
  },
  {
   "cell_type": "code",
   "execution_count": 7,
   "id": "3357d650-dae7-482f-ac6f-575518a2b61a",
   "metadata": {},
   "outputs": [],
   "source": [
    "user2item = construct_matrix(ratings, user2item)"
   ]
  },
  {
   "cell_type": "code",
   "execution_count": 8,
   "id": "3fe4c768-641d-49e7-8bf6-3012abe5b20e",
   "metadata": {},
   "outputs": [],
   "source": [
    "zeros = 0\n",
    "for i in range(user2item.shape[0]):\n",
    "    for j in range(user2item.shape[1]):\n",
    "        if user2item[i][j] == 0:\n",
    "            zeros += 1"
   ]
  },
  {
   "cell_type": "code",
   "execution_count": 9,
   "id": "bc8f7be0-928e-4cae-9d05-e9fde703791d",
   "metadata": {},
   "outputs": [],
   "source": [
    "assert zeros + ratings.shape[0] == users.shape[0] * movies.shape[0]"
   ]
  },
  {
   "cell_type": "code",
   "execution_count": 10,
   "id": "6d0d85be-567a-4b2c-83b3-9839516060ee",
   "metadata": {},
   "outputs": [],
   "source": [
    "np.save(\"../data/interim/user2item.npy\", user2item)"
   ]
  },
  {
   "cell_type": "code",
   "execution_count": 11,
   "id": "0e7cc724-961a-49cc-92a1-7d70d13d8839",
   "metadata": {},
   "outputs": [
    {
     "name": "stdout",
     "output_type": "stream",
     "text": [
      "93.70% of elements in the matrix are empty\n"
     ]
    }
   ],
   "source": [
    "print(\n",
    "    f\"{zeros/(users.shape[0] * movies.shape[0]) * 100:.2f}% of elements in the matrix are empty\"\n",
    ")"
   ]
  },
  {
   "cell_type": "code",
   "execution_count": 12,
   "id": "294fac7f-6e32-449e-8a00-60660613649b",
   "metadata": {},
   "outputs": [],
   "source": [
    "from sklearn.model_selection import train_test_split\n",
    "\n",
    "user2item_train = np.zeros((users.shape[0], movies.shape[0]))\n",
    "user2item_test = np.zeros((users.shape[0], movies.shape[0]))\n",
    "\n",
    "r_train, r_test = train_test_split(ratings, test_size=0.2)\n",
    "user2item_train = construct_matrix(r_train, user2item_train)\n",
    "user2item_test = construct_matrix(r_test, user2item_test)\n",
    "\n",
    "np.save(\"../data/interim/user2item_train.npy\", user2item_train)\n",
    "np.save(\"../data/interim/user2item_test.npy\", user2item_test)"
   ]
  },
  {
   "cell_type": "code",
   "execution_count": 187,
   "id": "5fcaf80b-7c23-4c69-8683-ea80ab38af15",
   "metadata": {},
   "outputs": [],
   "source": [
    "def svd(train, k):\n",
    "    # Convert input 'train' into a numpy array\n",
    "    util_mat = np.array(train)\n",
    "\n",
    "    # Create a mask for missing values in 'util_mat'\n",
    "    mask = np.isnan(util_mat)\n",
    "\n",
    "    # Mask the array using the created mask\n",
    "    masked_arr = np.ma.masked_array(util_mat, mask)\n",
    "\n",
    "    # Calculate mean of each column (item) in the masked array\n",
    "    item_means = np.mean(masked_arr, axis=0)\n",
    "\n",
    "    # Fill masked values in 'util_mat' with the respective column means\n",
    "    util_mat = masked_arr.filled(item_means)\n",
    "\n",
    "    # Subtract column means from each element in the matrix\n",
    "    x = np.tile(item_means, (util_mat.shape[0], 1))\n",
    "    util_mat = util_mat - x\n",
    "\n",
    "    # Perform Singular Value Decomposition (SVD) on the modified utility matrix\n",
    "    U, s, V = np.linalg.svd(util_mat, full_matrices=False)\n",
    "\n",
    "    # Convert s to a diagonal matrix and keep only the top 'k' singular values\n",
    "    s = np.diag(s)\n",
    "    s = s[0:k, 0:k]\n",
    "\n",
    "    # Reduce dimensions of U and V matrices to 'k' dimensions\n",
    "    U = U[:, 0:k]\n",
    "    V = V[0:k, :]\n",
    "\n",
    "    # Calculate square root of the diagonal matrix 's'\n",
    "    s_root = sqrtm(s)\n",
    "\n",
    "    # Calculate Usk and skV using the reduced matrices\n",
    "    Usk = np.dot(U, s_root)\n",
    "    skV = np.dot(s_root, V)\n",
    "\n",
    "    # Compute the product of Usk and skV to approximate the original matrix\n",
    "    UsV = np.dot(Usk, skV)\n",
    "\n",
    "    # Add back the mean values to the reconstructed matrix\n",
    "    UsV = UsV + x\n",
    "\n",
    "    return UsV  # Return the reconstructed matrix"
   ]
  },
  {
   "cell_type": "code",
   "execution_count": 185,
   "id": "661a24d2-e20d-443f-b72b-fd854d4846f2",
   "metadata": {},
   "outputs": [],
   "source": [
    "def create_utility_matrix(data):\n",
    "    userList = data.iloc[:, 0].tolist()\n",
    "    itemList = data.iloc[:, 1].tolist()\n",
    "    valueList = data.iloc[:, 2].tolist()\n",
    "\n",
    "    users = data[\"user_id\"].unique()\n",
    "    items = data[\"item_id\"].unique()\n",
    "\n",
    "    users_index = {users[i]: i for i in range(len(users))}\n",
    "    pd_dict = {item: [np.nan for i in range(len(users))] for item in items}\n",
    "\n",
    "    for i in range(0, len(data)):\n",
    "        pd_dict[itemList[i]][users_index[userList[i]]] = valueList[i]\n",
    "    X = pd.DataFrame(pd_dict)\n",
    "    X.index = users\n",
    "\n",
    "    itemcols = list(X.columns)\n",
    "    items_index = {itemcols[i]: i for i in range(len(itemcols))}\n",
    "    return X, users_index, items_index"
   ]
  },
  {
   "cell_type": "code",
   "execution_count": 123,
   "id": "8929379b-7930-43c1-b8c3-0f79c25bf8c1",
   "metadata": {},
   "outputs": [],
   "source": [
    "t = r_test.copy()\n",
    "true_movies_test = t.groupby('user_id')['item_id'].apply(list).reset_index()"
   ]
  },
  {
   "cell_type": "code",
   "execution_count": 189,
   "id": "b58ba019-9dab-40cd-a2d5-13c10ec015d7",
   "metadata": {},
   "outputs": [
    {
     "data": {
      "application/vnd.jupyter.widget-view+json": {
       "model_id": "bb0ac8a8afb24c6c8c4b882ba8714772",
       "version_major": 2,
       "version_minor": 0
      },
      "text/plain": [
       "  0%|          | 0/6 [00:00<?, ?it/s]"
      ]
     },
     "metadata": {},
     "output_type": "display_data"
    },
    {
     "name": "stdout",
     "output_type": "stream",
     "text": [
      "intersections - 1.6945917285259808\n",
      "rmse - 0.9804504585904057\n",
      "--------------------\n",
      "intersections - 1.6712619300106044\n",
      "rmse - 0.9799286549793254\n",
      "--------------------\n",
      "intersections - 1.623541887592789\n",
      "rmse - 0.9794069932066453\n",
      "--------------------\n",
      "intersections - 1.7327677624602333\n",
      "rmse - 0.9798167810803191\n",
      "--------------------\n",
      "intersections - 1.6595970307529162\n",
      "rmse - 0.9817691523893289\n",
      "--------------------\n",
      "intersections - 1.6288441145281018\n",
      "rmse - 1.026158342901167\n",
      "--------------------\n"
     ]
    }
   ],
   "source": [
    "no_of_features = [8, 10, 12, 14, 17, 943]\n",
    "util_mat, users_index, items_index = create_utility_matrix(r_train)\n",
    "best_matrix = None\n",
    "K = 100\n",
    "best_rmse = np.Inf\n",
    "for f in tqdm(no_of_features):\n",
    "    svdout = svd(util_mat, k=f)\n",
    "    pred = []\n",
    "    for _, row in r_test.iterrows():\n",
    "        user = row[\"user_id\"]\n",
    "        item = row[\"item_id\"]\n",
    "        u_index = users_index[user]\n",
    "\n",
    "        if item in items_index:\n",
    "            i_index = items_index[item]\n",
    "            pred_rating = svdout[u_index, i_index]\n",
    "        else:\n",
    "            pred_rating = np.mean(svdout[u_index, :])\n",
    "        pred.append(pred_rating)\n",
    "    pred = np.array(pred)\n",
    "    rmse = np.sqrt(mse(r_test.rating, pred))\n",
    "\n",
    "    intersection = 0\n",
    "    for row in true_movies_test.iterrows():\n",
    "        user_id = row[1]['user_id']\n",
    "        user_scores = svdout[u_index]\n",
    "        true = row[1]['item_id']\n",
    "        pred = user_scores.argsort()[-K:]\n",
    "        true_set = set(true)\n",
    "        pred_set = set(pred)\n",
    "        intersection += len(true_set.intersection(pred_set))\n",
    "    mean_intersection = intersection / (len(true_movies_test))\n",
    "    print(f\"intersections - {mean_intersection}\")\n",
    "    print(f\"rmse - {rmse}\")\n",
    "    print('-'*20)\n",
    "    if rmse < best_rmse:\n",
    "        best_rmse = rmse\n",
    "        best_matrix = svdout"
   ]
  },
  {
   "cell_type": "code",
   "execution_count": 182,
   "id": "4f5e1a2e-7706-435a-b7a2-1b20d13940d0",
   "metadata": {},
   "outputs": [
    {
     "data": {
      "text/plain": [
       "6"
      ]
     },
     "execution_count": 182,
     "metadata": {},
     "output_type": "execute_result"
    }
   ],
   "source": [
    "n = 91\n",
    "user_id = true_movies_test.iloc[n]['user_id']\n",
    "user_scores = best_matrix[u_index]\n",
    "true = true_movies_test.iloc[n]['item_id']\n",
    "pred = user_scores.argsort()[-K:]\n",
    "true_set = set(true)\n",
    "pred_set = set(pred)\n",
    "intersection = len(true_set.intersection(pred_set))\n",
    "intersection"
   ]
  }
 ],
 "metadata": {
  "kernelspec": {
   "display_name": "commit-generation",
   "language": "python",
   "name": "commit-generation"
  },
  "language_info": {
   "codemirror_mode": {
    "name": "ipython",
    "version": 3
   },
   "file_extension": ".py",
   "mimetype": "text/x-python",
   "name": "python",
   "nbconvert_exporter": "python",
   "pygments_lexer": "ipython3",
   "version": "3.11.6"
  }
 },
 "nbformat": 4,
 "nbformat_minor": 5
}
